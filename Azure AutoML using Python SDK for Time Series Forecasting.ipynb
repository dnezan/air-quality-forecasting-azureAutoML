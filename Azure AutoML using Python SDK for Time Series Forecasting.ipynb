{
 "cells": [
  {
   "cell_type": "code",
   "execution_count": 15,
   "id": "2c276988",
   "metadata": {},
   "outputs": [
    {
     "name": "stdout",
     "output_type": "stream",
     "text": [
      "1.49.0\n"
     ]
    }
   ],
   "source": [
    "import azureml\n",
    "print(azureml.core.VERSION)\n",
    "from azureml.core.dataset import Dataset\n",
    "\n",
    "import pandas as pd"
   ]
  },
  {
   "cell_type": "code",
   "execution_count": 25,
   "id": "b309c801",
   "metadata": {},
   "outputs": [
    {
     "name": "stdout",
     "output_type": "stream",
     "text": [
      "workspaceblobstore\n",
      "workspaceworkingdirectory\n",
      "workspacefilestore\n",
      "workspaceartifactstore\n",
      "azure workspace\n"
     ]
    }
   ],
   "source": [
    "from azureml.core import Workspace\n",
    "##ws = Workspace.from_config(path=\"./file-path/ws_config.json\")\n",
    "ws = Workspace.from_config(path=\"ws_config.json\")\n",
    "'''for x in ws.datastores:\n",
    "    print(x)\n",
    "print('azure workspace')'''"
   ]
  },
  {
   "cell_type": "code",
   "execution_count": 53,
   "id": "78390a71",
   "metadata": {},
   "outputs": [],
   "source": [
    "datastore_name = 'workspaceblobstore'\n",
    "datastore_paths = [(ws.datastores[datastore_name], 'UI/2023-03-28_123210_UTC/train.csv')]\n",
    "\n",
    "# Use the from_delimited_files method to create a Tabular Dataset\n",
    "tab_ds = Dataset.Tabular.from_delimited_files(path=datastore_paths)\n",
    "df = tab_ds.to_pandas_dataframe()"
   ]
  },
  {
   "cell_type": "code",
   "execution_count": 52,
   "id": "2b3b5907",
   "metadata": {},
   "outputs": [
    {
     "name": "stdout",
     "output_type": "stream",
     "text": [
      "              id       date  store_nbr                      family     sales  \\\n",
      "0              0 2013-01-01          1                  AUTOMOTIVE     0.000   \n",
      "1              1 2013-01-01          1                   BABY CARE     0.000   \n",
      "2              2 2013-01-01          1                      BEAUTY     0.000   \n",
      "3              3 2013-01-01          1                   BEVERAGES     0.000   \n",
      "4              4 2013-01-01          1                       BOOKS     0.000   \n",
      "...          ...        ...        ...                         ...       ...   \n",
      "3000883  3000883 2017-08-15          9                     POULTRY   438.133   \n",
      "3000884  3000884 2017-08-15          9              PREPARED FOODS   154.553   \n",
      "3000885  3000885 2017-08-15          9                     PRODUCE  2419.729   \n",
      "3000886  3000886 2017-08-15          9  SCHOOL AND OFFICE SUPPLIES   121.000   \n",
      "3000887  3000887 2017-08-15          9                     SEAFOOD    16.000   \n",
      "\n",
      "         onpromotion  \n",
      "0                  0  \n",
      "1                  0  \n",
      "2                  0  \n",
      "3                  0  \n",
      "4                  0  \n",
      "...              ...  \n",
      "3000883            0  \n",
      "3000884            1  \n",
      "3000885          148  \n",
      "3000886            8  \n",
      "3000887            0  \n",
      "\n",
      "[3000888 rows x 6 columns]\n"
     ]
    }
   ],
   "source": [
    "\n",
    "print(df)"
   ]
  },
  {
   "cell_type": "code",
   "execution_count": 57,
   "id": "749f7b71",
   "metadata": {},
   "outputs": [
    {
     "name": "stdout",
     "output_type": "stream",
     "text": [
      "what\n"
     ]
    }
   ],
   "source": [
    "from azureml.core import Run\n",
    "\n",
    "run = Run.get_context()\n"
   ]
  }
 ],
 "metadata": {
  "kernelspec": {
   "display_name": "Python 3 (ipykernel)",
   "language": "python",
   "name": "python3"
  },
  "language_info": {
   "codemirror_mode": {
    "name": "ipython",
    "version": 3
   },
   "file_extension": ".py",
   "mimetype": "text/x-python",
   "name": "python",
   "nbconvert_exporter": "python",
   "pygments_lexer": "ipython3",
   "version": "3.9.13"
  }
 },
 "nbformat": 4,
 "nbformat_minor": 5
}
